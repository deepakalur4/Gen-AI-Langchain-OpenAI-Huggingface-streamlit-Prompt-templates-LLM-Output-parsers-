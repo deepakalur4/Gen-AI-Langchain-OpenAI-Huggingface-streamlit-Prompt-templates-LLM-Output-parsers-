{
 "cells": [
  {
   "cell_type": "code",
   "execution_count": 1,
   "metadata": {},
   "outputs": [],
   "source": [
    "from langchain.llms import OpenAI\n",
    "from langchain import HuggingFaceHub\n",
    "import os"
   ]
  },
  {
   "cell_type": "code",
   "execution_count": 2,
   "metadata": {},
   "outputs": [],
   "source": [
    "os.environ[\"OPENAI_API_KEY\"]=\"\"\n",
    "os.environ[\"HUGGINGFACEHUB_ACCESS_TOKEN\"]=\"\""
   ]
  },
  {
   "cell_type": "code",
   "execution_count": 7,
   "metadata": {},
   "outputs": [],
   "source": [
    "openai_model=OpenAI(openai_api_key=os.environ[\"OPENAI_API_KEY\"])\n",
    "hugging_face_model=HuggingFaceHub(repo_id=\"google/flan-t5-base\",huggingfacehub_api_token=os.environ[\"HUGGINGFACEHUB_ACCESS_TOKEN\"])"
   ]
  },
  {
   "cell_type": "code",
   "execution_count": 8,
   "metadata": {},
   "outputs": [
    {
     "data": {
      "text/plain": [
       "\"Hi, I'm a new user here. I'm a new user here\""
      ]
     },
     "execution_count": 8,
     "metadata": {},
     "output_type": "execute_result"
    }
   ],
   "source": [
    "hugging_face_model.predict(\"Hi\")"
   ]
  },
  {
   "cell_type": "markdown",
   "metadata": {},
   "source": [
    "# Prompt templates"
   ]
  },
  {
   "cell_type": "code",
   "execution_count": 11,
   "metadata": {},
   "outputs": [],
   "source": [
    "from langchain.prompts import PromptTemplate\n",
    "from langchain.chains import LLMChain"
   ]
  },
  {
   "cell_type": "code",
   "execution_count": 15,
   "metadata": {},
   "outputs": [
    {
     "data": {
      "text/plain": [
       "'Delhi'"
      ]
     },
     "execution_count": 15,
     "metadata": {},
     "output_type": "execute_result"
    }
   ],
   "source": [
    "template=PromptTemplate(input_variables=[\"country\"],template=\"Tell me the capital of {country}\")\n",
    "chain=LLMChain(llm=hugging_face_model,prompt=template)\n",
    "chain.run(\"India\")"
   ]
  },
  {
   "cell_type": "markdown",
   "metadata": {},
   "source": [
    "# Combining multiple chains using Sequentail chains"
   ]
  },
  {
   "cell_type": "code",
   "execution_count": 18,
   "metadata": {},
   "outputs": [],
   "source": [
    "from langchain.chains import SequentialChain"
   ]
  },
  {
   "cell_type": "code",
   "execution_count": 35,
   "metadata": {},
   "outputs": [],
   "source": [
    "template_1=PromptTemplate(input_variables=[\"country\"],template=\"Tell me the capital of {country}\")\n",
    "chain_1=LLMChain(llm=hugging_face_model,prompt=template_1,output_key=\"capital\")\n",
    "\n",
    "template_2=PromptTemplate(input_variables=[\"capital\"],template=\"Suggest me some best places to visit in {capital}\")\n",
    "chain_2=LLMChain(llm=hugging_face_model,prompt=template_2,output_key=\"places\")\n",
    "\n",
    "chain=SequentialChain(chains=[chain_1,chain_2],input_variables=[\"country\"],output_variables=[\"capital\",\"places\"])"
   ]
  },
  {
   "cell_type": "code",
   "execution_count": 36,
   "metadata": {},
   "outputs": [
    {
     "data": {
      "text/plain": [
       "{'country': 'india',\n",
       " 'capital': 'Delhi',\n",
       " 'places': 'Delhi: Delhi is a city with a lot of beautiful places to visit. The best'}"
      ]
     },
     "execution_count": 36,
     "metadata": {},
     "output_type": "execute_result"
    }
   ],
   "source": [
    "chain({\"country\":\"india\"})"
   ]
  },
  {
   "cell_type": "markdown",
   "metadata": {},
   "source": [
    "# Prompt template + LLM + OUTPUT_PARSERS"
   ]
  },
  {
   "cell_type": "code",
   "execution_count": null,
   "metadata": {},
   "outputs": [],
   "source": []
  }
 ],
 "metadata": {
  "kernelspec": {
   "display_name": "venv",
   "language": "python",
   "name": "python3"
  },
  "language_info": {
   "codemirror_mode": {
    "name": "ipython",
    "version": 3
   },
   "file_extension": ".py",
   "mimetype": "text/x-python",
   "name": "python",
   "nbconvert_exporter": "python",
   "pygments_lexer": "ipython3",
   "version": "3.12.0"
  }
 },
 "nbformat": 4,
 "nbformat_minor": 2
}
